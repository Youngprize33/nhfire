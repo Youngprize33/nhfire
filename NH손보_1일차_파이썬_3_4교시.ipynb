{
 "cells": [
  {
   "cell_type": "markdown",
   "id": "4976dc02",
   "metadata": {},
   "source": [
    "# 3. 파이썬 함수"
   ]
  },
  {
   "cell_type": "markdown",
   "id": "2826b968",
   "metadata": {},
   "source": [
    "## 3-1 함수 정의 및 호출 "
   ]
  },
  {
   "cell_type": "markdown",
   "id": "73dac91c",
   "metadata": {},
   "source": [
    "### 함수 정의 \n",
    "\n",
    "- 예약어 def 사용\n",
    "- 함수명과 괄호에 매개변수 정의 \n",
    "- 매개변수는 함수의 입력 데이터\n",
    "- 콜론을 사용한 다음에 실제 코드가 입력된다.\n",
    "- 반환값은 return 다음에 넣는다. "
   ]
  },
  {
   "cell_type": "code",
   "execution_count": 1,
   "id": "dcad826d",
   "metadata": {},
   "outputs": [],
   "source": [
    "def 함수(매개변수) :\n",
    "    return 매개변수"
   ]
  },
  {
   "cell_type": "markdown",
   "id": "68dd9e6f",
   "metadata": {},
   "source": [
    "### 함수호출\n",
    "\n",
    "- 함수명과 괄호에 인자를 넣는다. \n",
    "- 인자는 매개변수와 개수가 동일해야 한다. "
   ]
  },
  {
   "cell_type": "code",
   "execution_count": 2,
   "id": "e9995226",
   "metadata": {},
   "outputs": [
    {
     "data": {
      "text/plain": [
       "'인자'"
      ]
     },
     "execution_count": 2,
     "metadata": {},
     "output_type": "execute_result"
    }
   ],
   "source": [
    "함수(\"인자\")"
   ]
  },
  {
   "cell_type": "code",
   "execution_count": 3,
   "id": "5bf0dd10",
   "metadata": {},
   "outputs": [
    {
     "data": {
      "text/plain": [
       "100"
      ]
     },
     "execution_count": 3,
     "metadata": {},
     "output_type": "execute_result"
    }
   ],
   "source": [
    "함수(100)"
   ]
  },
  {
   "cell_type": "markdown",
   "id": "9de1f94c-d28a-4181-81c9-576fcbe502a5",
   "metadata": {},
   "source": [
    "* 함수에 변수명을 덮어씌우지 않도록 주의한다."
   ]
  },
  {
   "cell_type": "code",
   "execution_count": 3,
   "id": "35655c25-154f-4a4c-b9bc-cd56358c7124",
   "metadata": {},
   "outputs": [],
   "source": [
    "def add(x,y):\n",
    "    return x + y"
   ]
  },
  {
   "cell_type": "code",
   "execution_count": 4,
   "id": "5b4db83f-5db2-496b-82ba-f48691e80fa5",
   "metadata": {},
   "outputs": [
    {
     "data": {
      "text/plain": [
       "5"
      ]
     },
     "execution_count": 4,
     "metadata": {},
     "output_type": "execute_result"
    }
   ],
   "source": [
    "add(2,3)"
   ]
  },
  {
   "cell_type": "code",
   "execution_count": 5,
   "id": "ffb47151-b4d0-4341-956a-cbc32533cb0c",
   "metadata": {},
   "outputs": [],
   "source": [
    "dd1 = {\"add\" : add}"
   ]
  },
  {
   "cell_type": "code",
   "execution_count": 6,
   "id": "c9d8d920-ea9e-4ecd-ba60-d6d351eee571",
   "metadata": {},
   "outputs": [
    {
     "data": {
      "text/plain": [
       "<function __main__.add(x, y)>"
      ]
     },
     "execution_count": 6,
     "metadata": {},
     "output_type": "execute_result"
    }
   ],
   "source": [
    "dd1[\"add\"]"
   ]
  },
  {
   "cell_type": "markdown",
   "id": "486cccd4-138f-4b22-814a-ec1258c10cc5",
   "metadata": {},
   "source": [
    "* 덮어쓰기 주의 사례"
   ]
  },
  {
   "cell_type": "code",
   "execution_count": 7,
   "id": "facd7b2b-dc91-4fd4-9779-38c2a653a611",
   "metadata": {},
   "outputs": [],
   "source": [
    "dd1[\"add\"] = 2"
   ]
  },
  {
   "cell_type": "code",
   "execution_count": 8,
   "id": "b61c8206-9620-4e59-b2da-fc4d53009cf9",
   "metadata": {},
   "outputs": [
    {
     "data": {
      "text/plain": [
       "{'add': 2}"
      ]
     },
     "execution_count": 8,
     "metadata": {},
     "output_type": "execute_result"
    }
   ],
   "source": [
    "dd1"
   ]
  },
  {
   "cell_type": "markdown",
   "id": "78cd11a2",
   "metadata": {},
   "source": [
    "## 3-2 함수 매개변수와 인자 "
   ]
  },
  {
   "cell_type": "markdown",
   "id": "2fa3eb2f",
   "metadata": {},
   "source": [
    "### 매개변수에 초기값을 지정하기\n",
    "\n",
    " * default 값을 선정하여 공백에 대한 오류방지"
   ]
  },
  {
   "cell_type": "code",
   "execution_count": 4,
   "id": "a7d79fe5",
   "metadata": {},
   "outputs": [],
   "source": [
    "def add(x=100,y=200) :\n",
    "    return x+y"
   ]
  },
  {
   "cell_type": "code",
   "execution_count": 5,
   "id": "646a6de1",
   "metadata": {},
   "outputs": [
    {
     "data": {
      "text/plain": [
       "300"
      ]
     },
     "execution_count": 5,
     "metadata": {},
     "output_type": "execute_result"
    }
   ],
   "source": [
    "add()"
   ]
  },
  {
   "cell_type": "markdown",
   "id": "abbf7f3c-d827-4f37-954f-4623f48126a4",
   "metadata": {},
   "source": [
    "* 만일 매개변수를 1개만 넣으면, 순서대로 들어가고 입력되지 않은 부분은 초기값이 같이 들어간다."
   ]
  },
  {
   "cell_type": "code",
   "execution_count": 6,
   "id": "ff738c44",
   "metadata": {},
   "outputs": [
    {
     "data": {
      "text/plain": [
       "500"
      ]
     },
     "execution_count": 6,
     "metadata": {},
     "output_type": "execute_result"
    }
   ],
   "source": [
    "add(300)"
   ]
  },
  {
   "cell_type": "code",
   "execution_count": 7,
   "id": "4ce4a2b7",
   "metadata": {},
   "outputs": [
    {
     "data": {
      "text/plain": [
       "1100"
      ]
     },
     "execution_count": 7,
     "metadata": {},
     "output_type": "execute_result"
    }
   ],
   "source": [
    "add(500,600)"
   ]
  },
  {
   "cell_type": "code",
   "execution_count": null,
   "id": "cc257c5d",
   "metadata": {},
   "outputs": [],
   "source": []
  },
  {
   "cell_type": "markdown",
   "id": "2c880216",
   "metadata": {},
   "source": [
    "### 하나의 매개변수에 여러 인자 처리하기 "
   ]
  },
  {
   "cell_type": "markdown",
   "id": "9b4e237b-cdc2-4764-a305-58cc8d092b9a",
   "metadata": {},
   "source": [
    "* asterisk는 곱셈, 포인터(컴파일언어 한정), 매개변수 앞에서 쓰면 여러개를 받겠다는 뜻. (0 ~ 무한대)"
   ]
  },
  {
   "cell_type": "code",
   "execution_count": 8,
   "id": "14bfff7f",
   "metadata": {},
   "outputs": [],
   "source": [
    "def totalSum(*args) :\n",
    "    print(args)\n",
    "    return sum(args)"
   ]
  },
  {
   "cell_type": "code",
   "execution_count": 9,
   "id": "b0979aa8",
   "metadata": {},
   "outputs": [
    {
     "name": "stdout",
     "output_type": "stream",
     "text": [
      "(1, 2, 3, 4, 5)\n"
     ]
    },
    {
     "data": {
      "text/plain": [
       "15"
      ]
     },
     "execution_count": 9,
     "metadata": {},
     "output_type": "execute_result"
    }
   ],
   "source": [
    "totalSum(1,2,3,4,5)"
   ]
  },
  {
   "cell_type": "code",
   "execution_count": null,
   "id": "70d933cc",
   "metadata": {},
   "outputs": [],
   "source": []
  },
  {
   "cell_type": "markdown",
   "id": "5d070acf",
   "metadata": {},
   "source": [
    "### 하나의 매개변수에 여러 키워드 인자 처리하기"
   ]
  },
  {
   "cell_type": "markdown",
   "id": "a6722c0f-6804-407a-b6a2-4b733cea1135",
   "metadata": {},
   "source": [
    "** (매겨변수가 앞 asterisk 2개) 의 경우, 입력값에 대해서 딕셔너리 형태로 받겠다는 뜻이다."
   ]
  },
  {
   "cell_type": "code",
   "execution_count": 9,
   "id": "34c7303e",
   "metadata": {},
   "outputs": [],
   "source": [
    "def totalSum1(**kwargs) :\n",
    "    print(kwargs)\n",
    "    print(kwargs.values())\n",
    "    return sum(kwargs.values())"
   ]
  },
  {
   "cell_type": "code",
   "execution_count": 10,
   "id": "c64b89a4",
   "metadata": {},
   "outputs": [
    {
     "name": "stdout",
     "output_type": "stream",
     "text": [
      "{'a': 1, 'b': 2, 'c': 3, 'd': 4, 'e': 5}\n",
      "dict_values([1, 2, 3, 4, 5])\n"
     ]
    },
    {
     "data": {
      "text/plain": [
       "15"
      ]
     },
     "execution_count": 10,
     "metadata": {},
     "output_type": "execute_result"
    }
   ],
   "source": [
    "totalSum1(a=1,b=2,c=3,d=4,e=5)"
   ]
  },
  {
   "cell_type": "code",
   "execution_count": 14,
   "id": "f667cfd4-8370-496c-b3f8-cdec80cbc941",
   "metadata": {},
   "outputs": [],
   "source": [
    "# totalSum1(1,2,3) # key : value 형태로 인풋이 되지 않으면, 오류를 뱉는다."
   ]
  },
  {
   "cell_type": "code",
   "execution_count": 12,
   "id": "84f88315-2ac5-4431-953d-68ab07324003",
   "metadata": {},
   "outputs": [
    {
     "name": "stdout",
     "output_type": "stream",
     "text": [
      "{'a': 1}\n",
      "dict_values([1])\n"
     ]
    },
    {
     "data": {
      "text/plain": [
       "1"
      ]
     },
     "execution_count": 12,
     "metadata": {},
     "output_type": "execute_result"
    }
   ],
   "source": [
    "totalSum1(a=1)"
   ]
  },
  {
   "cell_type": "code",
   "execution_count": 11,
   "id": "2fb43498",
   "metadata": {},
   "outputs": [],
   "source": [
    "dd = {'a' : 1, 'b' : 2, 'c' : 3, 'd' : 4, 'e' : 5}"
   ]
  },
  {
   "cell_type": "code",
   "execution_count": 12,
   "id": "8950b0b1-d646-4db4-b7cb-c56eac4ed8e0",
   "metadata": {},
   "outputs": [
    {
     "data": {
      "text/plain": [
       "dict_keys(['a', 'b', 'c', 'd', 'e'])"
      ]
     },
     "execution_count": 12,
     "metadata": {},
     "output_type": "execute_result"
    }
   ],
   "source": [
    "dd.keys()"
   ]
  },
  {
   "cell_type": "code",
   "execution_count": 13,
   "id": "fb68f254-a0f2-4049-93fa-bab122317627",
   "metadata": {},
   "outputs": [
    {
     "data": {
      "text/plain": [
       "dict_values([1, 2, 3, 4, 5])"
      ]
     },
     "execution_count": 13,
     "metadata": {},
     "output_type": "execute_result"
    }
   ],
   "source": [
    "dd.values()"
   ]
  },
  {
   "cell_type": "code",
   "execution_count": 15,
   "id": "f1b01f0f-fa95-4345-b22d-d07f29f5301f",
   "metadata": {},
   "outputs": [
    {
     "data": {
      "text/plain": [
       "dict_items([('a', 1), ('b', 2), ('c', 3), ('d', 4), ('e', 5)])"
      ]
     },
     "execution_count": 15,
     "metadata": {},
     "output_type": "execute_result"
    }
   ],
   "source": [
    "dd.items()"
   ]
  },
  {
   "cell_type": "markdown",
   "id": "593a244d",
   "metadata": {},
   "source": [
    "### 두 개의 매개변수를 정의하면 모든 인자를 다 처리할 수 있다. "
   ]
  },
  {
   "cell_type": "code",
   "execution_count": null,
   "id": "9f92fcd5",
   "metadata": {},
   "outputs": [],
   "source": []
  },
  {
   "cell_type": "code",
   "execution_count": 12,
   "id": "97c1aded",
   "metadata": {},
   "outputs": [],
   "source": [
    "def totalSum2(*args, **kwargs) :\n",
    "    print(args)\n",
    "    print(kwargs)\n",
    "    print(kwargs.values())\n",
    "    return sum(args) + sum(kwargs.values())"
   ]
  },
  {
   "cell_type": "code",
   "execution_count": 13,
   "id": "eff5f0ad",
   "metadata": {},
   "outputs": [
    {
     "name": "stdout",
     "output_type": "stream",
     "text": [
      "(1, 2, 3, 4, 5)\n",
      "{'a': 1, 'b': 2, 'c': 3, 'd': 4, 'e': 5}\n",
      "dict_values([1, 2, 3, 4, 5])\n"
     ]
    },
    {
     "data": {
      "text/plain": [
       "30"
      ]
     },
     "execution_count": 13,
     "metadata": {},
     "output_type": "execute_result"
    }
   ],
   "source": [
    "totalSum2(1,2,3,4,5,a=1,b=2,c=3,d=4,e=5)"
   ]
  },
  {
   "cell_type": "markdown",
   "id": "e9b89d88-87ed-4650-947a-0405cad59d51",
   "metadata": {},
   "source": [
    "* 리스트 컴프리헨션을 이용했을 때, 튜플이나 딕셔너리 형태로 출력 또한 가능하다. cf) 튜플 컴프리헨션은 없다."
   ]
  },
  {
   "cell_type": "markdown",
   "id": "fb5e2732-2c9e-417d-b9b3-0cc662ce56c2",
   "metadata": {},
   "source": [
    "* 출력된 튜플의 형태는 제너레이터(메모리에 저장되지 않고 하나씩 디스크에서 생성한는 형태)가 된다."
   ]
  },
  {
   "cell_type": "code",
   "execution_count": 3,
   "id": "9fad6f27-187c-456c-b41e-fc753adeefc2",
   "metadata": {},
   "outputs": [
    {
     "data": {
      "text/plain": [
       "{1: 1, 3: 3, 5: 5, 7: 7, 9: 9}"
      ]
     },
     "execution_count": 3,
     "metadata": {},
     "output_type": "execute_result"
    }
   ],
   "source": [
    "dict([(x,x) for x in range(10) if x % 2 == 1])"
   ]
  },
  {
   "cell_type": "code",
   "execution_count": 5,
   "id": "602ef8e2-956a-4597-89e5-ed67eebe4144",
   "metadata": {},
   "outputs": [
    {
     "data": {
      "text/plain": [
       "[(1, 1), (3, 3), (5, 5), (7, 7), (9, 9)]"
      ]
     },
     "execution_count": 5,
     "metadata": {},
     "output_type": "execute_result"
    }
   ],
   "source": [
    "[(x,x) for x in range(10) if x % 2 == 1]"
   ]
  },
  {
   "cell_type": "code",
   "execution_count": 6,
   "id": "0f851847-9bd2-4ed9-955b-6cd5489196db",
   "metadata": {},
   "outputs": [
    {
     "data": {
      "text/plain": [
       "[1, 3, 5, 7, 9]"
      ]
     },
     "execution_count": 6,
     "metadata": {},
     "output_type": "execute_result"
    }
   ],
   "source": [
    "[ x for x in range(10) if x % 2 == 1]"
   ]
  },
  {
   "cell_type": "markdown",
   "id": "ac354b32",
   "metadata": {},
   "source": [
    "## 3-3 익명함수 "
   ]
  },
  {
   "cell_type": "markdown",
   "id": "e02fde19-42a8-473a-b119-a65109e1b138",
   "metadata": {},
   "source": [
    "* 주로 map이나 apply를 결합해서 사용하는 경우가 많다."
   ]
  },
  {
   "cell_type": "code",
   "execution_count": 14,
   "id": "c69fdc74",
   "metadata": {},
   "outputs": [
    {
     "data": {
      "text/plain": [
       "300"
      ]
     },
     "execution_count": 14,
     "metadata": {},
     "output_type": "execute_result"
    }
   ],
   "source": [
    "(lambda x,y : x+y)(100,200)"
   ]
  },
  {
   "cell_type": "code",
   "execution_count": 15,
   "id": "35c7f15d",
   "metadata": {},
   "outputs": [],
   "source": [
    "func = lambda x,y : x+y"
   ]
  },
  {
   "cell_type": "code",
   "execution_count": 16,
   "id": "1a87ee1b",
   "metadata": {},
   "outputs": [
    {
     "data": {
      "text/plain": [
       "300"
      ]
     },
     "execution_count": 16,
     "metadata": {},
     "output_type": "execute_result"
    }
   ],
   "source": [
    "func(100,200)"
   ]
  },
  {
   "cell_type": "markdown",
   "id": "a8101e5b",
   "metadata": {},
   "source": [
    "## 3-4 함수를 인자로 전달하기"
   ]
  },
  {
   "cell_type": "code",
   "execution_count": 17,
   "id": "c43964fa",
   "metadata": {},
   "outputs": [],
   "source": [
    "def agg(func,*args) :\n",
    "    return func(*args)\n",
    "    "
   ]
  },
  {
   "cell_type": "markdown",
   "id": "b8799dca-d1c7-47be-a333-b1b4163ac685",
   "metadata": {},
   "source": [
    "* return에 있어 *args가 들어오는 경우는 매개변수에 *args와 다른 형태다.\n",
    "* list의 전체 원소를 꺼내는 방식이다."
   ]
  },
  {
   "cell_type": "code",
   "execution_count": 16,
   "id": "c3b625f9-7c1e-4b0a-9358-a123ae32cc7f",
   "metadata": {},
   "outputs": [
    {
     "data": {
      "text/plain": [
       "[1, 2, 3, 4]"
      ]
     },
     "execution_count": 16,
     "metadata": {},
     "output_type": "execute_result"
    }
   ],
   "source": [
    "a = [1, 2, 3, 4]\n",
    "[*a]"
   ]
  },
  {
   "cell_type": "code",
   "execution_count": 18,
   "id": "13d1b512",
   "metadata": {},
   "outputs": [],
   "source": [
    "def add(x,y) :\n",
    "    return x+y"
   ]
  },
  {
   "cell_type": "code",
   "execution_count": 19,
   "id": "0be0776d",
   "metadata": {},
   "outputs": [
    {
     "data": {
      "text/plain": [
       "300"
      ]
     },
     "execution_count": 19,
     "metadata": {},
     "output_type": "execute_result"
    }
   ],
   "source": [
    "agg(add,100,200)"
   ]
  },
  {
   "cell_type": "markdown",
   "id": "99795884-f555-4f21-a97d-c73251dc4d94",
   "metadata": {},
   "source": [
    "* 사실 리스트를 넣어서 선언을 하려면 매겨변수에 asterisk는 제거하고 return에서만 asterisk를 입력해놓으면 된다."
   ]
  },
  {
   "cell_type": "markdown",
   "id": "0d0ec00b",
   "metadata": {},
   "source": [
    "## 3-5 함수 데코레이터 처리"
   ]
  },
  {
   "cell_type": "markdown",
   "id": "4f5b91f2",
   "metadata": {},
   "source": [
    "### 함수 내부에 함수를 정의하기"
   ]
  },
  {
   "cell_type": "markdown",
   "id": "2004bea9-319f-4161-9a94-80e949861aa5",
   "metadata": {},
   "source": [
    "* 부분함수의 개념을 다시 봐야할거 같다. "
   ]
  },
  {
   "cell_type": "code",
   "execution_count": 22,
   "id": "655c52b2-f299-440e-8eee-21e0d158690d",
   "metadata": {},
   "outputs": [],
   "source": [
    "# 밑에 outer inner 방식은 지금 식을 풀어서 쓴 방식이다.\n",
    "# y = func(x) 라고 해보자.\n",
    "def add(func, x) : \n",
    "    func + x"
   ]
  },
  {
   "cell_type": "code",
   "execution_count": 23,
   "id": "4b95d756",
   "metadata": {},
   "outputs": [],
   "source": [
    "def outer(x) :\n",
    "    print(\"외부함수 실행\")\n",
    "    def inner(y)  :\n",
    "        print(\"내부함수 실행\")\n",
    "        return x+y\n",
    "    \n",
    "    return inner"
   ]
  },
  {
   "cell_type": "code",
   "execution_count": 24,
   "id": "ecfdfd04",
   "metadata": {},
   "outputs": [
    {
     "name": "stdout",
     "output_type": "stream",
     "text": [
      "외부함수 실행\n"
     ]
    }
   ],
   "source": [
    "inner = outer(100)"
   ]
  },
  {
   "cell_type": "code",
   "execution_count": 21,
   "id": "c4200ba2-6d97-4f33-ad98-6b15e7e6053a",
   "metadata": {},
   "outputs": [
    {
     "name": "stdout",
     "output_type": "stream",
     "text": [
      "외부함수 실행\n"
     ]
    },
    {
     "data": {
      "text/plain": [
       "<function __main__.outer.<locals>.inner(y)>"
      ]
     },
     "execution_count": 21,
     "metadata": {},
     "output_type": "execute_result"
    }
   ],
   "source": [
    "outer(100)"
   ]
  },
  {
   "cell_type": "code",
   "execution_count": 19,
   "id": "a917ccb7",
   "metadata": {},
   "outputs": [
    {
     "name": "stdout",
     "output_type": "stream",
     "text": [
      "내부함수 실행\n"
     ]
    },
    {
     "data": {
      "text/plain": [
       "300"
      ]
     },
     "execution_count": 19,
     "metadata": {},
     "output_type": "execute_result"
    }
   ],
   "source": [
    "inner(200)"
   ]
  },
  {
   "cell_type": "code",
   "execution_count": 42,
   "id": "67730ae4-0cde-4f23-b4b2-1c0e216fc706",
   "metadata": {},
   "outputs": [
    {
     "name": "stdout",
     "output_type": "stream",
     "text": [
      "외부함수 실행\n",
      "내부함수 실행\n"
     ]
    },
    {
     "ename": "TypeError",
     "evalue": "unsupported operand type(s) for +: 'int' and 'function'",
     "output_type": "error",
     "traceback": [
      "\u001b[1;31m---------------------------------------------------------------------------\u001b[0m",
      "\u001b[1;31mTypeError\u001b[0m                                 Traceback (most recent call last)",
      "\u001b[1;32m~\\AppData\\Local\\Temp\\ipykernel_6508\\145913030.py\u001b[0m in \u001b[0;36m<module>\u001b[1;34m\u001b[0m\n\u001b[1;32m----> 1\u001b[1;33m \u001b[0minner\u001b[0m\u001b[1;33m(\u001b[0m\u001b[0mouter\u001b[0m\u001b[1;33m(\u001b[0m\u001b[1;36m100\u001b[0m\u001b[1;33m)\u001b[0m\u001b[1;33m)\u001b[0m \u001b[1;31m# 이렇게 쓰면 오류가 나오긴 하네, 값이 없어서 그렇구나\u001b[0m\u001b[1;33m\u001b[0m\u001b[1;33m\u001b[0m\u001b[0m\n\u001b[0m",
      "\u001b[1;32m~\\AppData\\Local\\Temp\\ipykernel_6508\\1269336605.py\u001b[0m in \u001b[0;36minner\u001b[1;34m(y)\u001b[0m\n\u001b[0;32m      3\u001b[0m     \u001b[1;32mdef\u001b[0m \u001b[0minner\u001b[0m\u001b[1;33m(\u001b[0m\u001b[0my\u001b[0m\u001b[1;33m)\u001b[0m  \u001b[1;33m:\u001b[0m\u001b[1;33m\u001b[0m\u001b[1;33m\u001b[0m\u001b[0m\n\u001b[0;32m      4\u001b[0m         \u001b[0mprint\u001b[0m\u001b[1;33m(\u001b[0m\u001b[1;34m\"내부함수 실행\"\u001b[0m\u001b[1;33m)\u001b[0m\u001b[1;33m\u001b[0m\u001b[1;33m\u001b[0m\u001b[0m\n\u001b[1;32m----> 5\u001b[1;33m         \u001b[1;32mreturn\u001b[0m \u001b[0mx\u001b[0m\u001b[1;33m+\u001b[0m\u001b[0my\u001b[0m\u001b[1;33m\u001b[0m\u001b[1;33m\u001b[0m\u001b[0m\n\u001b[0m\u001b[0;32m      6\u001b[0m \u001b[1;33m\u001b[0m\u001b[0m\n\u001b[0;32m      7\u001b[0m     \u001b[1;32mreturn\u001b[0m \u001b[0minner\u001b[0m\u001b[1;33m\u001b[0m\u001b[1;33m\u001b[0m\u001b[0m\n",
      "\u001b[1;31mTypeError\u001b[0m: unsupported operand type(s) for +: 'int' and 'function'"
     ]
    }
   ],
   "source": [
    "inner(outer(100)) # 이렇게 쓰면 오류가 나오긴 하네, 값이 없어서 그렇구나"
   ]
  },
  {
   "cell_type": "markdown",
   "id": "32d207a0",
   "metadata": {},
   "source": [
    "### 함수 데코레이터를 처리하기\n",
    "\n",
    "- 먼저 데코레이터 처리함수 정의\n",
    "- 실제 함수를 정의할 때 바로 위에 @데코레이터함수 지정"
   ]
  },
  {
   "cell_type": "markdown",
   "id": "ea50391b",
   "metadata": {},
   "source": [
    "#### 데코레이터 함수 정의 "
   ]
  },
  {
   "cell_type": "code",
   "execution_count": 43,
   "id": "9454e6d1",
   "metadata": {},
   "outputs": [],
   "source": [
    "def deco(func) :\n",
    "    print(\"데코레이터 처리\")\n",
    "    def inner(*args,**kwagrs) :\n",
    "        print(\"내부함수 처리\")\n",
    "        return func(*args,**kwagrs)\n",
    "    return inner"
   ]
  },
  {
   "cell_type": "markdown",
   "id": "3a976fff",
   "metadata": {},
   "source": [
    "#### 실제 실행함수에 데코레이터 처리하기 "
   ]
  },
  {
   "cell_type": "code",
   "execution_count": 44,
   "id": "5fbd05d5",
   "metadata": {},
   "outputs": [
    {
     "name": "stdout",
     "output_type": "stream",
     "text": [
      "데코레이터 처리\n"
     ]
    }
   ],
   "source": [
    "@deco\n",
    "def add(x,y) :\n",
    "    return x+y"
   ]
  },
  {
   "cell_type": "markdown",
   "id": "4204cf11",
   "metadata": {},
   "source": [
    "#### 함수를 실행하기 "
   ]
  },
  {
   "cell_type": "code",
   "execution_count": 45,
   "id": "8fc28093",
   "metadata": {},
   "outputs": [
    {
     "name": "stdout",
     "output_type": "stream",
     "text": [
      "내부함수 처리\n"
     ]
    },
    {
     "data": {
      "text/plain": [
       "300"
      ]
     },
     "execution_count": 45,
     "metadata": {},
     "output_type": "execute_result"
    }
   ],
   "source": [
    "add(100,200)"
   ]
  },
  {
   "cell_type": "code",
   "execution_count": null,
   "id": "cf2d14c0",
   "metadata": {},
   "outputs": [],
   "source": []
  },
  {
   "cell_type": "markdown",
   "id": "0d00920b",
   "metadata": {},
   "source": [
    "# 4. 파이썬 클래스 \n",
    "\n",
    "- 클래스는 객체의 속성이나 메서드를 하나로 작성한 템플릿\n",
    "- 이 클래스를 가지고 객체를 생성해서 프로그램을 실행한다. \n",
    "- 그래서 반드시 클래스를 정의한 후에 객체를 생성해 이 객체의 메서드를 가지고 실행한다. \n"
   ]
  },
  {
   "cell_type": "code",
   "execution_count": null,
   "id": "aa59ac83",
   "metadata": {},
   "outputs": [],
   "source": []
  },
  {
   "cell_type": "markdown",
   "id": "3936054a",
   "metadata": {},
   "source": [
    "## 4-1 클래스 정의 및 객체 생성 "
   ]
  },
  {
   "cell_type": "markdown",
   "id": "dfc36cac",
   "metadata": {},
   "source": [
    "### 클래스 정의 \n",
    "\n",
    "- 예약어 class 를 사용한다.\n",
    "- 클래스 이름은 첫문자는 대문자로 사용한다."
   ]
  },
  {
   "cell_type": "code",
   "execution_count": 46,
   "id": "4a377526",
   "metadata": {},
   "outputs": [],
   "source": [
    "class 클래스명(object) :       # 클래스명 다음에 소괄호를 작성해서 상속관계를 표시 \n",
    "    ...                      # 클래스의 본문은 콜론 다음줄에 작성한다. "
   ]
  },
  {
   "cell_type": "code",
   "execution_count": 47,
   "id": "9491d51d",
   "metadata": {},
   "outputs": [
    {
     "data": {
      "text/plain": [
       "<__main__.클래스명 at 0x14eea2c94c0>"
      ]
     },
     "execution_count": 47,
     "metadata": {},
     "output_type": "execute_result"
    }
   ],
   "source": [
    "클래스명()                     # 아무것도 안하는 객체 생성하기 \n",
    "                             # 객체를 생성하면 객체 생성된다. \n",
    "                             # 출력하면 클래스명 at 레퍼런스(주소)로 표시\n",
    "                             # 그래서 객체를 변수에 할당해야 재사용이 가능하다. "
   ]
  },
  {
   "cell_type": "markdown",
   "id": "15f76ca1",
   "metadata": {},
   "source": [
    "### 생성자 작성 : 객체가 관리하는 속성 정의 \n",
    "- __init__ 메서드를 작성\n",
    "- 함수와 메서드의 차이는 메서드에 첫번째 매개변수가 self를 지정해야함\n",
    "- 메서드를 호출하면 자동으로 self 매개변수의 위치에 현재 객체를 인자로 전달해 줌"
   ]
  },
  {
   "cell_type": "code",
   "execution_count": 48,
   "id": "4f46ba85",
   "metadata": {},
   "outputs": [],
   "source": [
    "class Klass :\n",
    "    def __init__(self,name,age) :\n",
    "        self.name = name\n",
    "        self.age = age"
   ]
  },
  {
   "cell_type": "markdown",
   "id": "8c18cc38",
   "metadata": {},
   "source": [
    "### 객체 생성 \n",
    "\n",
    "- 생성자 호출은 클래스 이름과 호출연산자를 사용\n",
    "- 호출연산자에는 __init__ 생성자의 self를 제외한 매개변수에 매칭되는 인자를 전달해야함"
   ]
  },
  {
   "cell_type": "code",
   "execution_count": 49,
   "id": "a02610a2",
   "metadata": {},
   "outputs": [],
   "source": [
    "k = Klass(\"이름\", 33)"
   ]
  },
  {
   "cell_type": "markdown",
   "id": "2b5d1966",
   "metadata": {},
   "source": [
    "### 객체 내부 확인\n",
    "\n",
    "-  객체가 생성되면 내부에 속성를 관리한다.\n",
    "-  객체의 속성을 확인하려면 __dict__ 속성을 사용"
   ]
  },
  {
   "cell_type": "code",
   "execution_count": 50,
   "id": "c8515ca6",
   "metadata": {},
   "outputs": [
    {
     "data": {
      "text/plain": [
       "{'name': '이름', 'age': 33}"
      ]
     },
     "execution_count": 50,
     "metadata": {},
     "output_type": "execute_result"
    }
   ],
   "source": [
    "k.__dict__"
   ]
  },
  {
   "cell_type": "code",
   "execution_count": null,
   "id": "07b57ba1",
   "metadata": {},
   "outputs": [],
   "source": []
  },
  {
   "cell_type": "markdown",
   "id": "ea4b3e42",
   "metadata": {},
   "source": [
    "## 4-2 객체 메서드 정의 "
   ]
  },
  {
   "cell_type": "markdown",
   "id": "cfc4f632",
   "metadata": {},
   "source": [
    "### 객체가 사용하는 메서드 작성\n",
    "- 메서드는 함수처럼 def 예약어와 메서드 이름으로 작성한다\n",
    "- 메서드의 매개변수는 첫번째는 self로 사용하고 그 다음 매개변수는 객체가 호출할 때 인자로 전달될 값에 맞게 작성"
   ]
  },
  {
   "cell_type": "code",
   "execution_count": 51,
   "id": "5a64ba0e",
   "metadata": {},
   "outputs": [],
   "source": [
    "class Arth :\n",
    "    def __init__(self,value) :\n",
    "        self.item = value\n",
    "        \n",
    "    def add(self,value) :                  # 메서드 첫 매개변수는 self로 지정\n",
    "        return self.item + value\n",
    "    \n",
    "    def mul(self,value) :\n",
    "        return self.item * value"
   ]
  },
  {
   "cell_type": "markdown",
   "id": "a27404f5",
   "metadata": {},
   "source": [
    "### 객체를 생성한 후에 메서드를 사용할 수 있다."
   ]
  },
  {
   "cell_type": "code",
   "execution_count": 52,
   "id": "e8549fad",
   "metadata": {},
   "outputs": [],
   "source": [
    "a = Arth(100)"
   ]
  },
  {
   "cell_type": "code",
   "execution_count": 53,
   "id": "2d13eae1",
   "metadata": {},
   "outputs": [
    {
     "data": {
      "text/plain": [
       "300"
      ]
     },
     "execution_count": 53,
     "metadata": {},
     "output_type": "execute_result"
    }
   ],
   "source": [
    "a.add(200)"
   ]
  },
  {
   "cell_type": "code",
   "execution_count": 54,
   "id": "385eaa4f",
   "metadata": {},
   "outputs": [
    {
     "data": {
      "text/plain": [
       "20000"
      ]
     },
     "execution_count": 54,
     "metadata": {},
     "output_type": "execute_result"
    }
   ],
   "source": [
    "a.mul(200)"
   ]
  },
  {
   "cell_type": "markdown",
   "id": "7b0d830f",
   "metadata": {},
   "source": [
    "### 메서드 작동 원리 \n",
    "\n",
    "- 객체가 호출하는 메서드는 실제 첫번째 매개변수에 객체 자신을 전달해서 처리하는 함수 구조\n",
    "- 그래서 객체.메서드를 실행하는 것과 클래스.함수(객체)를 전달해서 처리하는 것과 같은 구조\n"
   ]
  },
  {
   "cell_type": "code",
   "execution_count": 55,
   "id": "342aedaf",
   "metadata": {},
   "outputs": [
    {
     "data": {
      "text/plain": [
       "300"
      ]
     },
     "execution_count": 55,
     "metadata": {},
     "output_type": "execute_result"
    }
   ],
   "source": [
    "Arth.add(a,200)"
   ]
  },
  {
   "cell_type": "markdown",
   "id": "cad6fcda",
   "metadata": {},
   "source": [
    "## 4-3 클래스 메서드 정의 "
   ]
  },
  {
   "cell_type": "markdown",
   "id": "65f94fcf",
   "metadata": {},
   "source": [
    "### 클래스 메서드를 정의하기\n",
    "\n",
    "- 클래스가 직접 호출해서 처리할 수 있는 메서드도 작성할 수 있다.\n",
    "- 다른 프로그램 언어와 다르게 객체도 이 클래스 메서드를 호출할 수 있다. "
   ]
  },
  {
   "cell_type": "code",
   "execution_count": 56,
   "id": "582b4e50",
   "metadata": {},
   "outputs": [],
   "source": [
    "class KlassMethod :\n",
    "    name = \"클래스속성\"\n",
    "    \n",
    "    def __init__(self,value) :\n",
    "        self.name = value               # 객체 속성\n",
    "        \n",
    "    def getName(self) :                 # 메서드 작성 : 객체가 사용하는 메서드라서 self \n",
    "        return self.name                # 객체 속성 조회 \n",
    "    \n",
    "    @classmethod                        # 클래스 메서드 처리 \n",
    "    def getKname(cls) :                 # 메서드 작성 첫번째 인자는 class 의 약자인 cls \n",
    "        return cls.name                 # 클래스의 속성 name을 조회 "
   ]
  },
  {
   "cell_type": "markdown",
   "id": "910ab881",
   "metadata": {},
   "source": [
    "### 클래스가 관리하는 영역을 확인\n",
    "\n",
    "- 클래스는 클래스 속성, 메서드 등을 관리한다."
   ]
  },
  {
   "cell_type": "code",
   "execution_count": 57,
   "id": "a4f66fe0",
   "metadata": {},
   "outputs": [
    {
     "data": {
      "text/plain": [
       "mappingproxy({'__module__': '__main__',\n",
       "              'name': '클래스속성',\n",
       "              '__init__': <function __main__.KlassMethod.__init__(self, value)>,\n",
       "              'getName': <function __main__.KlassMethod.getName(self)>,\n",
       "              'getKname': <classmethod at 0x14eea2c96a0>,\n",
       "              '__dict__': <attribute '__dict__' of 'KlassMethod' objects>,\n",
       "              '__weakref__': <attribute '__weakref__' of 'KlassMethod' objects>,\n",
       "              '__doc__': None})"
      ]
     },
     "execution_count": 57,
     "metadata": {},
     "output_type": "execute_result"
    }
   ],
   "source": [
    "KlassMethod.__dict__"
   ]
  },
  {
   "cell_type": "markdown",
   "id": "ea34459b",
   "metadata": {},
   "source": [
    "### 객체가 관리하는 영역확인 \n",
    "\n",
    "-  객체는 생성자에서 만든 속성만 관리한다.\n",
    "- 메서드는 전부 클래스 영역에 존재한다"
   ]
  },
  {
   "cell_type": "code",
   "execution_count": 58,
   "id": "dd5ab813",
   "metadata": {},
   "outputs": [
    {
     "data": {
      "text/plain": [
       "{'name': '이름', 'age': 33}"
      ]
     },
     "execution_count": 58,
     "metadata": {},
     "output_type": "execute_result"
    }
   ],
   "source": [
    "k.__dict__"
   ]
  },
  {
   "cell_type": "markdown",
   "id": "78ddc4a8",
   "metadata": {},
   "source": [
    "### 객체를 생성하면 객체관련 속성과 메서드를 사용"
   ]
  },
  {
   "cell_type": "code",
   "execution_count": 59,
   "id": "86f61d08",
   "metadata": {},
   "outputs": [],
   "source": [
    "k = KlassMethod(\"객체속성\")"
   ]
  },
  {
   "cell_type": "code",
   "execution_count": 60,
   "id": "989ae17d",
   "metadata": {},
   "outputs": [
    {
     "data": {
      "text/plain": [
       "'객체속성'"
      ]
     },
     "execution_count": 60,
     "metadata": {},
     "output_type": "execute_result"
    }
   ],
   "source": [
    "k.getName()"
   ]
  },
  {
   "cell_type": "markdown",
   "id": "758436c9",
   "metadata": {},
   "source": [
    "### 클래스로 직접 클래스 속성 상요\n",
    "- 객체를 생성하기 전에도 클래스 이름으로 메서드를 호출할 수 있다."
   ]
  },
  {
   "cell_type": "code",
   "execution_count": 61,
   "id": "fc5b9148",
   "metadata": {},
   "outputs": [
    {
     "data": {
      "text/plain": [
       "'클래스속성'"
      ]
     },
     "execution_count": 61,
     "metadata": {},
     "output_type": "execute_result"
    }
   ],
   "source": [
    "KlassMethod.getKname()"
   ]
  },
  {
   "cell_type": "markdown",
   "id": "6cef7bd8",
   "metadata": {},
   "source": [
    "### 클래스 메서드는 객체가 호출도 가능하다. "
   ]
  },
  {
   "cell_type": "code",
   "execution_count": 62,
   "id": "edd146bf",
   "metadata": {},
   "outputs": [
    {
     "data": {
      "text/plain": [
       "'클래스속성'"
      ]
     },
     "execution_count": 62,
     "metadata": {},
     "output_type": "execute_result"
    }
   ],
   "source": [
    "k.getKname()"
   ]
  },
  {
   "cell_type": "markdown",
   "id": "6f579a65",
   "metadata": {},
   "source": [
    "### 클래스 속성과 객체 속성 직접 접근 \n",
    "\n",
    "-  클래스 속성은 클래스이름에서 접근한다.\n",
    "-  객체 속성은 객체이름으로 접근한다.\n",
    "- 클래스 속성과 객체 속성이 동일한 이름일 경우 객체에서는 클래스 속성을 접근할 수 없다."
   ]
  },
  {
   "cell_type": "code",
   "execution_count": 63,
   "id": "6af329ea",
   "metadata": {},
   "outputs": [
    {
     "data": {
      "text/plain": [
       "'클래스속성'"
      ]
     },
     "execution_count": 63,
     "metadata": {},
     "output_type": "execute_result"
    }
   ],
   "source": [
    "KlassMethod.name"
   ]
  },
  {
   "cell_type": "code",
   "execution_count": 64,
   "id": "ed0faff9",
   "metadata": {},
   "outputs": [
    {
     "data": {
      "text/plain": [
       "'객체속성'"
      ]
     },
     "execution_count": 64,
     "metadata": {},
     "output_type": "execute_result"
    }
   ],
   "source": [
    "k.name"
   ]
  },
  {
   "cell_type": "code",
   "execution_count": null,
   "id": "cb70a34a",
   "metadata": {},
   "outputs": [],
   "source": []
  },
  {
   "cell_type": "markdown",
   "id": "9849fa80",
   "metadata": {},
   "source": [
    "## 4-4 정적 메서드 정의 "
   ]
  },
  {
   "cell_type": "code",
   "execution_count": 65,
   "id": "564bbb6d",
   "metadata": {},
   "outputs": [],
   "source": [
    "class StaticMethod :\n",
    "    name = \"클래스속성\"\n",
    "    \n",
    "    def __init__(self,value) :\n",
    "        self.name = value               # 객체 속성\n",
    "        \n",
    "    def getName(self) :                 # 메서드 작성 : 객체가 사용하는 메서드라서 self \n",
    "        return self.name                # 객체 속성 조회 \n",
    "    \n",
    "    @staticmethod                       # 정적 메서드 처리 \n",
    "    def getSname(cls,self) :            # 메서드 작성할 때 첫번째 매개변수를 특별하게 지정할 필요없음 \n",
    "        return cls.name , self.name     # 실제 클래스와 객체를 접근하려면 매개변수로 지정해야함 "
   ]
  },
  {
   "cell_type": "code",
   "execution_count": null,
   "id": "64ea1824",
   "metadata": {},
   "outputs": [],
   "source": []
  },
  {
   "cell_type": "code",
   "execution_count": 66,
   "id": "aa54fa66",
   "metadata": {},
   "outputs": [],
   "source": [
    "s = StaticMethod(\"객체속성\")"
   ]
  },
  {
   "cell_type": "code",
   "execution_count": 67,
   "id": "4eacbfd1",
   "metadata": {},
   "outputs": [
    {
     "data": {
      "text/plain": [
       "'객체속성'"
      ]
     },
     "execution_count": 67,
     "metadata": {},
     "output_type": "execute_result"
    }
   ],
   "source": [
    "s.getName()"
   ]
  },
  {
   "cell_type": "code",
   "execution_count": 68,
   "id": "4a10b872",
   "metadata": {},
   "outputs": [
    {
     "data": {
      "text/plain": [
       "('클래스속성', '객체속성')"
      ]
     },
     "execution_count": 68,
     "metadata": {},
     "output_type": "execute_result"
    }
   ],
   "source": [
    "s.getSname(StaticMethod,s)"
   ]
  },
  {
   "cell_type": "markdown",
   "id": "e2fd208c",
   "metadata": {},
   "source": [
    "### 점연산자 대신 내장함수로 접근하기 \n",
    "\n",
    "- getattr 함수로 속성 확인 \n",
    "- setattr 함수로 속성 갱신 "
   ]
  },
  {
   "cell_type": "code",
   "execution_count": 69,
   "id": "5febb028",
   "metadata": {},
   "outputs": [
    {
     "data": {
      "text/plain": [
       "'객체속성'"
      ]
     },
     "execution_count": 69,
     "metadata": {},
     "output_type": "execute_result"
    }
   ],
   "source": [
    "getattr(s,\"name\")"
   ]
  },
  {
   "cell_type": "code",
   "execution_count": 70,
   "id": "8efefd6e",
   "metadata": {},
   "outputs": [
    {
     "data": {
      "text/plain": [
       "'클래스속성'"
      ]
     },
     "execution_count": 70,
     "metadata": {},
     "output_type": "execute_result"
    }
   ],
   "source": [
    "getattr(StaticMethod,\"name\")"
   ]
  },
  {
   "cell_type": "code",
   "execution_count": null,
   "id": "cfc2656f",
   "metadata": {},
   "outputs": [],
   "source": []
  },
  {
   "cell_type": "code",
   "execution_count": 71,
   "id": "bbc2c9cb",
   "metadata": {},
   "outputs": [],
   "source": [
    "setattr(s,\"name\", \"이름변경\")"
   ]
  },
  {
   "cell_type": "code",
   "execution_count": 72,
   "id": "5a269fd4",
   "metadata": {},
   "outputs": [],
   "source": [
    "setattr(StaticMethod,\"name\",\"클래스속성변경\")"
   ]
  },
  {
   "cell_type": "code",
   "execution_count": 73,
   "id": "60ccb70a",
   "metadata": {},
   "outputs": [
    {
     "data": {
      "text/plain": [
       "('이름변경', '클래스속성변경')"
      ]
     },
     "execution_count": 73,
     "metadata": {},
     "output_type": "execute_result"
    }
   ],
   "source": [
    "getattr(s,\"name\"), getattr(StaticMethod,\"name\")"
   ]
  },
  {
   "cell_type": "code",
   "execution_count": null,
   "id": "0751927d",
   "metadata": {},
   "outputs": [],
   "source": []
  },
  {
   "cell_type": "markdown",
   "id": "8fc3cd9c",
   "metadata": {},
   "source": [
    "## 4-5 프로퍼티 처리하기 "
   ]
  },
  {
   "cell_type": "code",
   "execution_count": 74,
   "id": "92853c91",
   "metadata": {},
   "outputs": [],
   "source": [
    "class Pro : \n",
    "    def __init__(self,value) :\n",
    "        self._name = value\n",
    "    \n",
    "    @property\n",
    "    def name(self) :\n",
    "        return self._name\n",
    "    \n",
    "    @name.setter\n",
    "    def name(self,value) :\n",
    "        self._name = value"
   ]
  },
  {
   "cell_type": "code",
   "execution_count": 75,
   "id": "1134bc01",
   "metadata": {},
   "outputs": [],
   "source": [
    "p = Pro(\"객체속성\")"
   ]
  },
  {
   "cell_type": "code",
   "execution_count": 76,
   "id": "171995e2",
   "metadata": {},
   "outputs": [
    {
     "data": {
      "text/plain": [
       "'객체속성'"
      ]
     },
     "execution_count": 76,
     "metadata": {},
     "output_type": "execute_result"
    }
   ],
   "source": [
    "p.name"
   ]
  },
  {
   "cell_type": "code",
   "execution_count": 77,
   "id": "4c289669",
   "metadata": {},
   "outputs": [],
   "source": [
    "p.name = \"속성값 변경\""
   ]
  },
  {
   "cell_type": "code",
   "execution_count": 78,
   "id": "74a57b40",
   "metadata": {},
   "outputs": [
    {
     "data": {
      "text/plain": [
       "'속성값 변경'"
      ]
     },
     "execution_count": 78,
     "metadata": {},
     "output_type": "execute_result"
    }
   ],
   "source": [
    "p.name"
   ]
  },
  {
   "cell_type": "markdown",
   "id": "8ae7818b",
   "metadata": {},
   "source": [
    "## 4-5 디스크립터 처리하기"
   ]
  },
  {
   "cell_type": "code",
   "execution_count": null,
   "id": "58956195",
   "metadata": {},
   "outputs": [],
   "source": []
  },
  {
   "cell_type": "markdown",
   "id": "20960edf",
   "metadata": {},
   "source": [
    "### 속성을 제어하는 디스크립터 클래스 정의 "
   ]
  },
  {
   "cell_type": "code",
   "execution_count": 79,
   "id": "933f4826",
   "metadata": {},
   "outputs": [],
   "source": [
    "class Descriptor :\n",
    "    # 클래스 변수 이름을 가져와서 객체 속성으로 지정 \n",
    "    def __set_name__(self, owner, name):\n",
    "        self.public_name = name\n",
    "        self.private_name = '_' + name\n",
    "\n",
    "    # 게터 정의하기 \n",
    "    def __get__(self, obj, objtype=None):\n",
    "        print(self.__dict__)\n",
    "        return  getattr(obj, self.private_name)\n",
    "    \n",
    "    # 세터 정의하기 \n",
    "    def __set__(self, obj, value):\n",
    "        setattr(obj, self.private_name, value)\n"
   ]
  },
  {
   "cell_type": "code",
   "execution_count": 80,
   "id": "17a58ff1",
   "metadata": {},
   "outputs": [
    {
     "data": {
      "text/plain": [
       "mappingproxy({'__module__': '__main__',\n",
       "              '__set_name__': <function __main__.Descriptor.__set_name__(self, owner, name)>,\n",
       "              '__get__': <function __main__.Descriptor.__get__(self, obj, objtype=None)>,\n",
       "              '__set__': <function __main__.Descriptor.__set__(self, obj, value)>,\n",
       "              '__dict__': <attribute '__dict__' of 'Descriptor' objects>,\n",
       "              '__weakref__': <attribute '__weakref__' of 'Descriptor' objects>,\n",
       "              '__doc__': None})"
      ]
     },
     "execution_count": 80,
     "metadata": {},
     "output_type": "execute_result"
    }
   ],
   "source": [
    "Descriptor.__dict__"
   ]
  },
  {
   "cell_type": "code",
   "execution_count": null,
   "id": "00cf1794",
   "metadata": {},
   "outputs": [],
   "source": []
  },
  {
   "cell_type": "markdown",
   "id": "0dfd56b7",
   "metadata": {},
   "source": [
    "### 실제 사용할 클래스 정의\n",
    "\n",
    "- 디스크립터의 객체는 반드시 클래스 속성으로 정의한다. \n",
    "- 객체의 속성은 항상 클래스 디스크립터 속성으로 제어하므로 별도의 메서드를 작성할 필요없음"
   ]
  },
  {
   "cell_type": "code",
   "execution_count": 81,
   "id": "ca7f7b6a",
   "metadata": {},
   "outputs": [],
   "source": [
    "class User :\n",
    "    name = Descriptor()\n",
    "    age = Descriptor()\n",
    "    \n",
    "    def __init__(self,name,age) :\n",
    "        self.name = name\n",
    "        self.age = age"
   ]
  },
  {
   "cell_type": "code",
   "execution_count": 82,
   "id": "8e178a23",
   "metadata": {},
   "outputs": [
    {
     "data": {
      "text/plain": [
       "mappingproxy({'__module__': '__main__',\n",
       "              'name': <__main__.Descriptor at 0x14eea2c93d0>,\n",
       "              'age': <__main__.Descriptor at 0x14eea2c9ac0>,\n",
       "              '__init__': <function __main__.User.__init__(self, name, age)>,\n",
       "              '__dict__': <attribute '__dict__' of 'User' objects>,\n",
       "              '__weakref__': <attribute '__weakref__' of 'User' objects>,\n",
       "              '__doc__': None})"
      ]
     },
     "execution_count": 82,
     "metadata": {},
     "output_type": "execute_result"
    }
   ],
   "source": [
    "User.__dict__"
   ]
  },
  {
   "cell_type": "code",
   "execution_count": null,
   "id": "eda9502a",
   "metadata": {},
   "outputs": [],
   "source": []
  },
  {
   "cell_type": "code",
   "execution_count": 83,
   "id": "fdc1baf3",
   "metadata": {},
   "outputs": [],
   "source": [
    "u = User(\"이름\", 33)"
   ]
  },
  {
   "cell_type": "code",
   "execution_count": 84,
   "id": "d15a20f9",
   "metadata": {},
   "outputs": [
    {
     "name": "stdout",
     "output_type": "stream",
     "text": [
      "{'public_name': 'name', 'private_name': '_name'}\n"
     ]
    },
    {
     "data": {
      "text/plain": [
       "'이름'"
      ]
     },
     "execution_count": 84,
     "metadata": {},
     "output_type": "execute_result"
    }
   ],
   "source": [
    "u.name"
   ]
  },
  {
   "cell_type": "code",
   "execution_count": 85,
   "id": "5c6113f8",
   "metadata": {},
   "outputs": [
    {
     "name": "stdout",
     "output_type": "stream",
     "text": [
      "{'public_name': 'age', 'private_name': '_age'}\n"
     ]
    },
    {
     "data": {
      "text/plain": [
       "33"
      ]
     },
     "execution_count": 85,
     "metadata": {},
     "output_type": "execute_result"
    }
   ],
   "source": [
    "u.age"
   ]
  },
  {
   "cell_type": "code",
   "execution_count": null,
   "id": "977050f5",
   "metadata": {},
   "outputs": [],
   "source": []
  }
 ],
 "metadata": {
  "kernelspec": {
   "display_name": "Python 3 (ipykernel)",
   "language": "python",
   "name": "python3"
  },
  "language_info": {
   "codemirror_mode": {
    "name": "ipython",
    "version": 3
   },
   "file_extension": ".py",
   "mimetype": "text/x-python",
   "name": "python",
   "nbconvert_exporter": "python",
   "pygments_lexer": "ipython3",
   "version": "3.9.13"
  }
 },
 "nbformat": 4,
 "nbformat_minor": 5
}
